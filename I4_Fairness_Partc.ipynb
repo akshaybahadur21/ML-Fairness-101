{
  "nbformat": 4,
  "nbformat_minor": 0,
  "metadata": {
    "colab": {
      "name": "I4-Fairness-Partc.ipynb",
      "provenance": [],
      "collapsed_sections": []
    },
    "kernelspec": {
      "name": "python3",
      "display_name": "Python 3"
    },
    "language_info": {
      "name": "python"
    }
  },
  "cells": [
    {
      "cell_type": "code",
      "source": [
        "# from google.colab import drive\n",
        "# drive.mount('/content/drive')\n",
        "import pandas as pd\n",
        "import numpy as np\n",
        "import seaborn as sns\n",
        "import copy"
      ],
      "metadata": {
        "id": "dcmH-9ctX3pV"
      },
      "execution_count": 1,
      "outputs": []
    },
    {
      "cell_type": "code",
      "source": [
        "! git clone https://github.com/akshaybahadur21/ML-Fairness-101"
      ],
      "metadata": {
        "colab": {
          "base_uri": "https://localhost:8080/"
        },
        "id": "zyDoeHl6fW-r",
        "outputId": "7281ccb7-d4e9-40a2-84ba-11710e02599f"
      },
      "execution_count": 2,
      "outputs": [
        {
          "output_type": "stream",
          "name": "stdout",
          "text": [
            "Cloning into 'ML-Fairness-101'...\n",
            "remote: Enumerating objects: 21, done.\u001b[K\n",
            "remote: Counting objects: 100% (21/21), done.\u001b[K\n",
            "remote: Compressing objects: 100% (20/20), done.\u001b[K\n",
            "remote: Total 21 (delta 5), reused 5 (delta 1), pack-reused 0\u001b[K\n",
            "Unpacking objects: 100% (21/21), done.\n"
          ]
        }
      ]
    },
    {
      "cell_type": "code",
      "source": [
        "%cd /content/ML-Fairness-101/data"
      ],
      "metadata": {
        "id": "dHbyHPeVZEEB",
        "colab": {
          "base_uri": "https://localhost:8080/"
        },
        "outputId": "52c7bc21-9f8f-449f-f0c8-f43c21bc5522"
      },
      "execution_count": 3,
      "outputs": [
        {
          "output_type": "stream",
          "name": "stdout",
          "text": [
            "/content/ML-Fairness-101/data\n"
          ]
        }
      ]
    },
    {
      "cell_type": "code",
      "source": [
        "df_credit = pd.read_csv('german_credit_data.csv' , index_col=0)\n",
        "def one_hot_encoder(df, nan_as_category = False):\n",
        "    original_columns = list(df.columns)\n",
        "    categorical_columns = [col for col in df.columns if df[col].dtype == 'object']\n",
        "    df = pd.get_dummies(df, columns= categorical_columns, dummy_na= nan_as_category, drop_first=True)\n",
        "    new_columns = [c for c in df.columns if c not in original_columns]\n",
        "    return df, new_columns\n",
        "df_credit['Saving accounts'] = df_credit['Saving accounts'].fillna('no_inf')\n",
        "df_credit['Checking account'] = df_credit['Checking account'].fillna('no_inf')\n",
        "\n",
        "#Purpose to Dummies Variable\n",
        "df_credit = df_credit.merge(pd.get_dummies(df_credit.Purpose, drop_first=True, prefix='Purpose'), left_index=True, right_index=True)\n",
        "\n",
        "# Housing get dummies\n",
        "df_credit = df_credit.merge(pd.get_dummies(df_credit.Housing, drop_first=True, prefix='Housing'), left_index=True, right_index=True)\n",
        "# Housing get Saving Accounts\n",
        "df_credit = df_credit.merge(pd.get_dummies(df_credit[\"Saving accounts\"], drop_first=True, prefix='Savings'), left_index=True, right_index=True)\n",
        "# Housing get Risk\n",
        "df_credit = df_credit.merge(pd.get_dummies(df_credit.Risk, prefix='Risk'), left_index=True, right_index=True)\n",
        "# Housing get Checking Account\n",
        "df_credit = df_credit.merge(pd.get_dummies(df_credit[\"Checking account\"], drop_first=True, prefix='Check'), left_index=True, right_index=True)\n",
        "#Sex feature in dummies\n",
        "df_credit = df_credit.merge(pd.get_dummies(df_credit.Sex, drop_first=True, prefix='Sex'), left_index=True, right_index=True)\n",
        "\n",
        "df_credit['Credit amount'] = np.log(df_credit['Credit amount'])\n",
        "\n",
        "\n",
        "#Excluding the missing columns\n",
        "del df_credit[\"Saving accounts\"]\n",
        "del df_credit[\"Checking account\"]\n",
        "del df_credit[\"Purpose\"]\n",
        "del df_credit[\"Sex\"]\n",
        "del df_credit[\"Housing\"]\n",
        "del df_credit[\"Risk\"]\n",
        "del df_credit['Risk_bad']\n",
        "\n",
        "x = pd.Series(df_credit[df_credit['Risk_good'] == 1]['Age'], name=\"age\")\n",
        "sns.histplot(x)\n",
        "x = pd.Series(df_credit[df_credit['Risk_good'] == 0]['Age'], name=\"age\")\n",
        "sns.histplot(x, color='y')"
      ],
      "metadata": {
        "colab": {
          "base_uri": "https://localhost:8080/",
          "height": 296
        },
        "id": "Z9klohFsxQjN",
        "outputId": "a56dc623-8fea-410f-8057-979a1a467308"
      },
      "execution_count": 4,
      "outputs": [
        {
          "output_type": "execute_result",
          "data": {
            "text/plain": [
              "<matplotlib.axes._subplots.AxesSubplot at 0x7f287662d950>"
            ]
          },
          "metadata": {},
          "execution_count": 4
        },
        {
          "output_type": "display_data",
          "data": {
            "text/plain": [
              "<Figure size 432x288 with 1 Axes>"
            ],
            "image/png": "[encoded data removed]"
          },
          "metadata": {
            "needs_background": "light"
          }
        }
      ]
    },
    {
      "cell_type": "code",
      "source": [
        "interval = (18, 25, 120)\n",
        "\n",
        "cats = ['young', 'old']\n",
        "df_credit[\"Age_cat\"] = pd.cut(df_credit.Age, interval, labels=cats)\n",
        "# Housing get Age categorical\n",
        "df_credit = df_credit.merge(pd.get_dummies(df_credit[\"Age_cat\"], drop_first=True, prefix='Age_cat'), left_index=True, right_index=True)\n",
        "del df_credit['Age_cat']\n",
        "del df_credit['Age']"
      ],
      "metadata": {
        "id": "L9IFf1XlxZtg"
      },
      "execution_count": 5,
      "outputs": []
    },
    {
      "cell_type": "code",
      "source": [
        "import pandas as pd\n",
        "import matplotlib.pyplot as plt\n",
        "import seaborn as sns\n",
        "import numpy as np\n",
        "\n",
        "from sklearn.model_selection import train_test_split, KFold, cross_val_score # to split the data\n",
        "from sklearn.metrics import accuracy_score, confusion_matrix, classification_report, fbeta_score #To evaluate our model\n",
        "\n",
        "from sklearn.model_selection import GridSearchCV\n",
        "\n",
        "# Algorithmns models to be compared\n",
        "from sklearn.ensemble import RandomForestClassifier\n",
        "from sklearn.linear_model import LogisticRegression\n",
        "from sklearn.tree import DecisionTreeClassifier\n",
        "from sklearn.neighbors import KNeighborsClassifier\n",
        "from sklearn.ensemble import RandomForestClassifier\n",
        "from sklearn.discriminant_analysis import LinearDiscriminantAnalysis\n",
        "from sklearn.naive_bayes import GaussianNB\n",
        "from sklearn.svm import SVC\n",
        "from xgboost import XGBClassifier\n",
        "import warnings\n",
        "from sklearn.exceptions import ConvergenceWarning\n",
        "\n",
        "with warnings.catch_warnings():\n",
        "    warnings.filterwarnings(\"ignore\", category=ConvergenceWarning)"
      ],
      "metadata": {
        "id": "3hILBFRCw4W-"
      },
      "execution_count": 46,
      "outputs": []
    },
    {
      "cell_type": "code",
      "source": [
        "df_credit.columns"
      ],
      "metadata": {
        "colab": {
          "base_uri": "https://localhost:8080/"
        },
        "id": "kFJfEzBPy-dr",
        "outputId": "6022f719-ed75-455f-d53e-7e3f33df125a"
      },
      "execution_count": 7,
      "outputs": [
        {
          "output_type": "execute_result",
          "data": {
            "text/plain": [
              "Index(['Job', 'Credit amount', 'Duration', 'Purpose_car',\n",
              "       'Purpose_domestic appliances', 'Purpose_education',\n",
              "       'Purpose_furniture/equipment', 'Purpose_radio/TV', 'Purpose_repairs',\n",
              "       'Purpose_vacation/others', 'Housing_own', 'Housing_rent',\n",
              "       'Savings_moderate', 'Savings_no_inf', 'Savings_quite rich',\n",
              "       'Savings_rich', 'Risk_good', 'Check_moderate', 'Check_no_inf',\n",
              "       'Check_rich', 'Sex_male', 'Age_cat_old'],\n",
              "      dtype='object')"
            ]
          },
          "metadata": {},
          "execution_count": 7
        }
      ]
    },
    {
      "cell_type": "code",
      "source": [
        "df_credit_copy = copy.copy(df_credit)"
      ],
      "metadata": {
        "id": "ZgvCijgg24_l"
      },
      "execution_count": 8,
      "outputs": []
    },
    {
      "cell_type": "code",
      "source": [
        "X = df_credit_copy.drop('Risk_good', axis=1).values\n",
        "y = df_credit_copy['Risk_good'].values\n",
        "\n",
        "# Spliting X and y into train and test version\n",
        "X_train, X_test, y_train, y_test = train_test_split(X, y, test_size = 0.25, random_state=42)\n",
        "\n",
        "#############################\n",
        "## DELETING AGE AND GENDER ##\n",
        "##                         ##\n",
        "#############################\n",
        "\n",
        "X_train = np.delete(X_train, [-2, -1 ], 1)  \n",
        "print(X_train.shape)\n",
        "# to feed the random state\n",
        "seed = 7\n",
        "\n",
        "# prepare models\n",
        "models = []\n",
        "models.append(('LR', LogisticRegression()))\n",
        "models.append(('KNN', KNeighborsClassifier()))\n",
        "\n",
        "\n",
        "# evaluate each model in turn\n",
        "results = []\n",
        "names = []\n",
        "scoring = 'recall'\n",
        "\n",
        "for name, model in models:\n",
        "        kfold = KFold(n_splits=10, random_state=seed, shuffle=True)\n",
        "        cv_results = cross_val_score(model, X_train, y_train, cv=kfold, scoring=scoring)\n",
        "        results.append(cv_results)\n",
        "        names.append(name)\n",
        "        msg = \"%s: %f (%f)\" % (name, cv_results.mean(), cv_results.std())\n",
        "        print(msg)\n",
        "        \n",
        "# boxplot algorithm comparison\n",
        "fig = plt.figure(figsize=(11,6))\n",
        "fig.suptitle('Algorithm Comparison')\n",
        "ax = fig.add_subplot(111)\n",
        "plt.boxplot(results)\n",
        "ax.set_xticklabels(names)\n",
        "plt.show()"
      ],
      "metadata": {
        "colab": {
          "base_uri": "https://localhost:8080/",
          "height": 1000
        },
        "id": "9F0USB8Hykk7",
        "outputId": "bbd2a08a-ce87-422f-8552-0dae527a4393"
      },
      "execution_count": 9,
      "outputs": [
        {
          "output_type": "stream",
          "name": "stdout",
          "text": [
            "(750, 19)\n"
          ]
        },
        {
          "output_type": "stream",
          "name": "stderr",
          "text": [
            "/usr/local/lib/python3.7/dist-packages/sklearn/linear_model/_logistic.py:818: ConvergenceWarning: lbfgs failed to converge (status=1):\n",
            "STOP: TOTAL NO. of ITERATIONS REACHED LIMIT.\n",
            "\n",
            "Increase the number of iterations (max_iter) or scale the data as shown in:\n",
            "    https://scikit-learn.org/stable/modules/preprocessing.html\n",
            "Please also refer to the documentation for alternative solver options:\n",
            "    https://scikit-learn.org/stable/modules/linear_model.html#logistic-regression\n",
            "  extra_warning_msg=_LOGISTIC_SOLVER_CONVERGENCE_MSG,\n",
            "/usr/local/lib/python3.7/dist-packages/sklearn/linear_model/_logistic.py:818: ConvergenceWarning: lbfgs failed to converge (status=1):\n",
            "STOP: TOTAL NO. of ITERATIONS REACHED LIMIT.\n",
            "\n",
            "Increase the number of iterations (max_iter) or scale the data as shown in:\n",
            "    https://scikit-learn.org/stable/modules/preprocessing.html\n",
            "Please also refer to the documentation for alternative solver options:\n",
            "    https://scikit-learn.org/stable/modules/linear_model.html#logistic-regression\n",
            "  extra_warning_msg=_LOGISTIC_SOLVER_CONVERGENCE_MSG,\n",
            "/usr/local/lib/python3.7/dist-packages/sklearn/linear_model/_logistic.py:818: ConvergenceWarning: lbfgs failed to converge (status=1):\n",
            "STOP: TOTAL NO. of ITERATIONS REACHED LIMIT.\n",
            "\n",
            "Increase the number of iterations (max_iter) or scale the data as shown in:\n",
            "    https://scikit-learn.org/stable/modules/preprocessing.html\n",
            "Please also refer to the documentation for alternative solver options:\n",
            "    https://scikit-learn.org/stable/modules/linear_model.html#logistic-regression\n",
            "  extra_warning_msg=_LOGISTIC_SOLVER_CONVERGENCE_MSG,\n",
            "/usr/local/lib/python3.7/dist-packages/sklearn/linear_model/_logistic.py:818: ConvergenceWarning: lbfgs failed to converge (status=1):\n",
            "STOP: TOTAL NO. of ITERATIONS REACHED LIMIT.\n",
            "\n",
            "Increase the number of iterations (max_iter) or scale the data as shown in:\n",
            "    https://scikit-learn.org/stable/modules/preprocessing.html\n",
            "Please also refer to the documentation for alternative solver options:\n",
            "    https://scikit-learn.org/stable/modules/linear_model.html#logistic-regression\n",
            "  extra_warning_msg=_LOGISTIC_SOLVER_CONVERGENCE_MSG,\n",
            "/usr/local/lib/python3.7/dist-packages/sklearn/linear_model/_logistic.py:818: ConvergenceWarning: lbfgs failed to converge (status=1):\n",
            "STOP: TOTAL NO. of ITERATIONS REACHED LIMIT.\n",
            "\n",
            "Increase the number of iterations (max_iter) or scale the data as shown in:\n",
            "    https://scikit-learn.org/stable/modules/preprocessing.html\n",
            "Please also refer to the documentation for alternative solver options:\n",
            "    https://scikit-learn.org/stable/modules/linear_model.html#logistic-regression\n",
            "  extra_warning_msg=_LOGISTIC_SOLVER_CONVERGENCE_MSG,\n",
            "/usr/local/lib/python3.7/dist-packages/sklearn/linear_model/_logistic.py:818: ConvergenceWarning: lbfgs failed to converge (status=1):\n",
            "STOP: TOTAL NO. of ITERATIONS REACHED LIMIT.\n",
            "\n",
            "Increase the number of iterations (max_iter) or scale the data as shown in:\n",
            "    https://scikit-learn.org/stable/modules/preprocessing.html\n",
            "Please also refer to the documentation for alternative solver options:\n",
            "    https://scikit-learn.org/stable/modules/linear_model.html#logistic-regression\n",
            "  extra_warning_msg=_LOGISTIC_SOLVER_CONVERGENCE_MSG,\n",
            "/usr/local/lib/python3.7/dist-packages/sklearn/linear_model/_logistic.py:818: ConvergenceWarning: lbfgs failed to converge (status=1):\n",
            "STOP: TOTAL NO. of ITERATIONS REACHED LIMIT.\n",
            "\n",
            "Increase the number of iterations (max_iter) or scale the data as shown in:\n",
            "    https://scikit-learn.org/stable/modules/preprocessing.html\n",
            "Please also refer to the documentation for alternative solver options:\n",
            "    https://scikit-learn.org/stable/modules/linear_model.html#logistic-regression\n",
            "  extra_warning_msg=_LOGISTIC_SOLVER_CONVERGENCE_MSG,\n",
            "/usr/local/lib/python3.7/dist-packages/sklearn/linear_model/_logistic.py:818: ConvergenceWarning: lbfgs failed to converge (status=1):\n",
            "STOP: TOTAL NO. of ITERATIONS REACHED LIMIT.\n",
            "\n",
            "Increase the number of iterations (max_iter) or scale the data as shown in:\n",
            "    https://scikit-learn.org/stable/modules/preprocessing.html\n",
            "Please also refer to the documentation for alternative solver options:\n",
            "    https://scikit-learn.org/stable/modules/linear_model.html#logistic-regression\n",
            "  extra_warning_msg=_LOGISTIC_SOLVER_CONVERGENCE_MSG,\n",
            "/usr/local/lib/python3.7/dist-packages/sklearn/linear_model/_logistic.py:818: ConvergenceWarning: lbfgs failed to converge (status=1):\n",
            "STOP: TOTAL NO. of ITERATIONS REACHED LIMIT.\n",
            "\n",
            "Increase the number of iterations (max_iter) or scale the data as shown in:\n",
            "    https://scikit-learn.org/stable/modules/preprocessing.html\n",
            "Please also refer to the documentation for alternative solver options:\n",
            "    https://scikit-learn.org/stable/modules/linear_model.html#logistic-regression\n",
            "  extra_warning_msg=_LOGISTIC_SOLVER_CONVERGENCE_MSG,\n",
            "/usr/local/lib/python3.7/dist-packages/sklearn/linear_model/_logistic.py:818: ConvergenceWarning: lbfgs failed to converge (status=1):\n",
            "STOP: TOTAL NO. of ITERATIONS REACHED LIMIT.\n",
            "\n",
            "Increase the number of iterations (max_iter) or scale the data as shown in:\n",
            "    https://scikit-learn.org/stable/modules/preprocessing.html\n",
            "Please also refer to the documentation for alternative solver options:\n",
            "    https://scikit-learn.org/stable/modules/linear_model.html#logistic-regression\n",
            "  extra_warning_msg=_LOGISTIC_SOLVER_CONVERGENCE_MSG,\n"
          ]
        },
        {
          "output_type": "stream",
          "name": "stdout",
          "text": [
            "LR: 0.882764 (0.059865)\n",
            "KNN: 0.838377 (0.052544)\n"
          ]
        },
        {
          "output_type": "display_data",
          "data": {
            "text/plain": [
              "<Figure size 792x432 with 1 Axes>"
            ],
            "image/png": "[encoded data removed]"
          },
          "metadata": {
            "needs_background": "light"
          }
        }
      ]
    },
    {
      "cell_type": "code",
      "source": [
        "X_train.shape"
      ],
      "metadata": {
        "colab": {
          "base_uri": "https://localhost:8080/"
        },
        "id": "K7OEu-6o8fWl",
        "outputId": "1a92c394-7cc4-4a2f-85a0-82bea42caef7"
      },
      "execution_count": 10,
      "outputs": [
        {
          "output_type": "execute_result",
          "data": {
            "text/plain": [
              "(750, 19)"
            ]
          },
          "metadata": {},
          "execution_count": 10
        }
      ]
    },
    {
      "cell_type": "code",
      "source": [
        "from sklearn.metrics import roc_curve, roc_auc_score\n",
        "\n",
        "name, model = models[0]\n",
        "model.fit(X_train, y_train)\n",
        "y_pred_prob = model.predict_proba(np.delete(X_test, [-2, -1], 1))[:,1]\n",
        "\n",
        "# Generate ROC curve values: fpr, tpr, thresholds\n",
        "fpr, tpr, thresholds = roc_curve(y_test, y_pred_prob)\n",
        "\n",
        "# Plot ROC curve\n",
        "plt.plot([0, 1], [0, 1], 'k--')\n",
        "plt.plot(fpr, tpr)\n",
        "plt.xlabel('False Positive Rate')\n",
        "plt.ylabel('True Positive Rate')\n",
        "plt.title('ROC Curve for {}'.format(name))\n",
        "plt.show()\n",
        "roc_auc_score(y_test, y_pred_prob)"
      ],
      "metadata": {
        "colab": {
          "base_uri": "https://localhost:8080/",
          "height": 451
        },
        "id": "C6UyoAld0JpZ",
        "outputId": "ea27a7d6-6838-43ec-a2ae-f8bf59176269"
      },
      "execution_count": 11,
      "outputs": [
        {
          "output_type": "stream",
          "name": "stderr",
          "text": [
            "/usr/local/lib/python3.7/dist-packages/sklearn/linear_model/_logistic.py:818: ConvergenceWarning: lbfgs failed to converge (status=1):\n",
            "STOP: TOTAL NO. of ITERATIONS REACHED LIMIT.\n",
            "\n",
            "Increase the number of iterations (max_iter) or scale the data as shown in:\n",
            "    https://scikit-learn.org/stable/modules/preprocessing.html\n",
            "Please also refer to the documentation for alternative solver options:\n",
            "    https://scikit-learn.org/stable/modules/linear_model.html#logistic-regression\n",
            "  extra_warning_msg=_LOGISTIC_SOLVER_CONVERGENCE_MSG,\n"
          ]
        },
        {
          "output_type": "display_data",
          "data": {
            "text/plain": [
              "<Figure size 432x288 with 1 Axes>"
            ],
            "image/png": "[encoded data removed]"
          },
          "metadata": {
            "needs_background": "light"
          }
        },
        {
          "output_type": "execute_result",
          "data": {
            "text/plain": [
              "0.7771535580524344"
            ]
          },
          "metadata": {},
          "execution_count": 11
        }
      ]
    },
    {
      "cell_type": "code",
      "source": [
        "#anti_classification\n",
        "import copy\n",
        "y_pred_prob = model.predict(np.delete(X_test, [-2, -1], 1))\n",
        "anti_class_X_test = copy.copy(X_test)\n",
        "\n",
        "\n",
        "#Age\n",
        "where_0 = np.where(anti_class_X_test[:,-1] == 0)\n",
        "where_1 = np.where(anti_class_X_test[:,-1] == 1)\n",
        "\n",
        "anti_class_X_test[where_0, -1] = 1\n",
        "anti_class_X_test[where_1, -1] = 0\n",
        "\n",
        "y_anti_class_prob = model.predict(np.delete(anti_class_X_test, [-2, -1], 1))\n",
        "print('anti-class inconsistency for age: ',np.count_nonzero(np.abs(y_pred_prob - y_anti_class_prob) == 1))\n",
        "\n",
        "#Gender\n",
        "anti_class_X_test = copy.copy(X_test)\n",
        "where_0 = np.where(anti_class_X_test[:,-2] == 0)\n",
        "where_1 = np.where(anti_class_X_test[:,-2] == 1)\n",
        "\n",
        "\n",
        "# print(where_0)\n",
        "anti_class_X_test[where_0, -2] = 1\n",
        "anti_class_X_test[where_1, -2] = 0\n",
        "\n",
        "y_anti_class_prob = model.predict(np.delete(anti_class_X_test, [-2, -1], 1))\n",
        "print('anti-class inconsistency for gender: ', np.count_nonzero(np.abs(y_pred_prob - y_anti_class_prob) == 1))"
      ],
      "metadata": {
        "colab": {
          "base_uri": "https://localhost:8080/"
        },
        "id": "yIVeygKY0Qv-",
        "outputId": "3f51cbed-ff26-41ba-bd37-143f957a9911"
      },
      "execution_count": 12,
      "outputs": [
        {
          "output_type": "stream",
          "name": "stdout",
          "text": [
            "anti-class inconsistency for age:  0\n",
            "anti-class inconsistency for gender:  0\n"
          ]
        }
      ]
    },
    {
      "cell_type": "code",
      "source": [
        "# Group Fairness\n",
        "y_pred_prob = model.predict(np.delete(X_test, [-2, -1], 1))\n",
        "Total_entries = X_test.shape[0]\n",
        "\n",
        "#Age group\n",
        "where_0 = np.where(anti_class_X_test[:,-1] == 0)\n",
        "where_1 = np.where(anti_class_X_test[:,-1] == 1)\n",
        "\n",
        "adult_count = len(where_0[0])\n",
        "young_count = Total_entries - adult_count\n",
        "\n",
        "adult_pred_positive = np.sum(y_pred_prob[where_0])\n",
        "young_pred_positive = np.sum(y_pred_prob[where_1])\n",
        "\n",
        "print('Group Fairness: Prob_adult = {} , Prob_young = {}'.format(adult_pred_positive/adult_count, young_pred_positive/young_count))\n",
        "\n",
        "\n",
        "#Gender\n",
        "where_0 = np.where(anti_class_X_test[:,-2] == 0)\n",
        "where_1 = np.where(anti_class_X_test[:,-2] == 1)\n",
        "\n",
        "male_count = len(where_0[0])\n",
        "female_count = Total_entries - male_count \n",
        "\n",
        "male_pred_positive = np.sum(y_pred_prob[where_0])\n",
        "female_pred_positive = np.sum(y_pred_prob[where_1])\n",
        "\n",
        "print('Group Fairness: Prob_male = {} , Prob_female = {}'.format(male_pred_positive/male_count, female_pred_positive/female_count))"
      ],
      "metadata": {
        "colab": {
          "base_uri": "https://localhost:8080/"
        },
        "id": "9Dk60l9M0WXt",
        "outputId": "d9566746-c2ed-42e1-836b-2efd1a8b4be2"
      },
      "execution_count": 13,
      "outputs": [
        {
          "output_type": "stream",
          "name": "stdout",
          "text": [
            "Group Fairness: Prob_adult = 0.7058823529411765 , Prob_young = 0.8391959798994975\n",
            "Group Fairness: Prob_male = 0.807909604519774 , Prob_female = 0.821917808219178\n"
          ]
        }
      ]
    },
    {
      "cell_type": "code",
      "source": [
        "#separation\n",
        "from sklearn.metrics import confusion_matrix, ConfusionMatrixDisplay\n",
        "y_pred_prob = model.predict(np.delete(X_test, [-2, -1], 1))\n",
        "cm = confusion_matrix(y_test, y_pred_prob)\n",
        "disp = ConfusionMatrixDisplay(confusion_matrix=cm)\n",
        "disp.plot()"
      ],
      "metadata": {
        "colab": {
          "base_uri": "https://localhost:8080/",
          "height": 296
        },
        "id": "y2Rw0CKp1aNK",
        "outputId": "1058ea5d-3b31-457d-aaad-ecd59fa0a293"
      },
      "execution_count": 14,
      "outputs": [
        {
          "output_type": "execute_result",
          "data": {
            "text/plain": [
              "<sklearn.metrics._plot.confusion_matrix.ConfusionMatrixDisplay at 0x7f287665a550>"
            ]
          },
          "metadata": {},
          "execution_count": 14
        },
        {
          "output_type": "display_data",
          "data": {
            "text/plain": [
              "<Figure size 432x288 with 2 Axes>"
            ],
            "image/png": "[encoded data removed]"
          },
          "metadata": {
            "needs_background": "light"
          }
        }
      ]
    },
    {
      "cell_type": "code",
      "source": [
        "#Gender\n",
        "where_0 = np.where(anti_class_X_test[:,-2] == 0)\n",
        "where_1 = np.where(anti_class_X_test[:,-2] == 1)\n",
        "\n",
        "male_pred = y_pred_prob[where_0]\n",
        "male_label = y_test[where_0]\n",
        "cm_male = confusion_matrix(male_label, male_pred)\n",
        "\n",
        "female_pred = y_pred_prob[where_1]\n",
        "female_label = y_test[where_1]\n",
        "cm_female = confusion_matrix(female_label, female_pred)\n",
        "\n",
        "print('Separation for FPR: male-> {}, female-> {}'.format( cm_male[0][1]/(cm_male[0][0] + cm_male[0][1]),  cm_female[0][1]/(cm_female[0][0] + cm_female[0][1]) ))\n",
        "print('Separation for FNR: male-> {}, female-> {}'.format( cm_male[1][0]/(cm_male[1][0] + cm_male[1][1]),  cm_female[1][0]/(cm_female[1][0] + cm_female[1][1]) ))"
      ],
      "metadata": {
        "colab": {
          "base_uri": "https://localhost:8080/"
        },
        "id": "ewiEWgmQ1pOY",
        "outputId": "b1e8c080-b92d-47db-98e1-b6d9e53b81a4"
      },
      "execution_count": 15,
      "outputs": [
        {
          "output_type": "stream",
          "name": "stdout",
          "text": [
            "Separation for FPR: male-> 0.62, female-> 0.6363636363636364\n",
            "Separation for FNR: male-> 0.11811023622047244, female-> 0.09803921568627451\n"
          ]
        }
      ]
    },
    {
      "cell_type": "code",
      "source": [
        "#Age\n",
        "where_0 = np.where(anti_class_X_test[:,-1] == 1)\n",
        "where_1 = np.where(anti_class_X_test[:,-1] == 0)\n",
        "\n",
        "adult_pred = y_pred_prob[where_0]\n",
        "adult_label = y_test[where_0]\n",
        "cm_adult = confusion_matrix(adult_label, adult_pred)\n",
        "\n",
        "young_pred = y_pred_prob[where_1]\n",
        "young_label = y_test[where_1]\n",
        "cm_young = confusion_matrix(young_label, young_pred)\n",
        "\n",
        "print('Separation for FPR: adult-> {}, young-> {}'.format( cm_adult[0][1]/(cm_adult[0][0] + cm_adult[0][1]),  cm_young[0][1]/(cm_young[0][0] + cm_young[0][1]) ))\n",
        "print('Separation for FNR: adult-> {}, young-> {}'.format( cm_adult[1][0]/(cm_adult[1][0] + cm_adult[1][1]),  cm_young[1][0]/(cm_young[1][0] + cm_young[1][1]) ))"
      ],
      "metadata": {
        "colab": {
          "base_uri": "https://localhost:8080/"
        },
        "id": "qix3zhn84QJh",
        "outputId": "356179b1-76bb-49a8-f701-6898ee7bd31f"
      },
      "execution_count": 16,
      "outputs": [
        {
          "output_type": "stream",
          "name": "stdout",
          "text": [
            "Separation for FPR: adult-> 0.6545454545454545, young-> 0.5294117647058824\n",
            "Separation for FNR: adult-> 0.09027777777777778, young-> 0.20588235294117646\n"
          ]
        }
      ]
    },
    {
      "cell_type": "code",
      "source": [
        "#######################\n",
        "#######################\n",
        "## Changing Threshold##\n",
        "#######################\n",
        "#######################"
      ],
      "metadata": {
        "id": "o3scnQM09t0g"
      },
      "execution_count": 17,
      "outputs": []
    },
    {
      "cell_type": "code",
      "source": [
        "df_credit_copy_thresh = copy.copy(df_credit)"
      ],
      "metadata": {
        "id": "rT02qI_6eJq8"
      },
      "execution_count": 18,
      "outputs": []
    },
    {
      "cell_type": "code",
      "source": [
        "X = df_credit_copy_thresh.drop('Risk_good', axis=1).values\n",
        "y = df_credit_copy_thresh['Risk_good'].values\n",
        "\n",
        "# Spliting X and y into train and test version\n",
        "X_train, X_test, y_train, y_test = train_test_split(X, y, test_size = 0.25, random_state=42)\n",
        "\n",
        "#############################\n",
        "## DELETING AGE AND GENDER ##\n",
        "##                         ##\n",
        "#############################\n",
        "\n",
        "X_train = np.delete(X_train, [-2, -1 ], 1)  \n",
        "print(X_train.shape)\n",
        "# to feed the random state\n",
        "seed = 7\n",
        "\n",
        "# prepare models\n",
        "models = []\n",
        "models.append(('LR', LogisticRegression()))\n",
        "models.append(('KNN', KNeighborsClassifier()))\n",
        "\n",
        "\n",
        "# evaluate each model in turn\n",
        "results = []\n",
        "names = []\n",
        "scoring = 'recall'\n",
        "\n",
        "for name, model in models:\n",
        "        kfold = KFold(n_splits=10, random_state=seed, shuffle=True)\n",
        "        cv_results = cross_val_score(model, X_train, y_train, cv=kfold, scoring=scoring)\n",
        "        results.append(cv_results)\n",
        "        names.append(name)\n",
        "        msg = \"%s: %f (%f)\" % (name, cv_results.mean(), cv_results.std())\n",
        "        print(msg)\n",
        "        \n",
        "# boxplot algorithm comparison\n",
        "fig = plt.figure(figsize=(11,6))\n",
        "fig.suptitle('Algorithm Comparison')\n",
        "ax = fig.add_subplot(111)\n",
        "plt.boxplot(results)\n",
        "ax.set_xticklabels(names)\n",
        "plt.show()"
      ],
      "metadata": {
        "colab": {
          "base_uri": "https://localhost:8080/",
          "height": 1000
        },
        "id": "7-MWFhydfS0p",
        "outputId": "b0336ee3-1bf0-4348-cc25-3bc602047d3b"
      },
      "execution_count": 19,
      "outputs": [
        {
          "output_type": "stream",
          "name": "stdout",
          "text": [
            "(750, 19)\n"
          ]
        },
        {
          "output_type": "stream",
          "name": "stderr",
          "text": [
            "/usr/local/lib/python3.7/dist-packages/sklearn/linear_model/_logistic.py:818: ConvergenceWarning: lbfgs failed to converge (status=1):\n",
            "STOP: TOTAL NO. of ITERATIONS REACHED LIMIT.\n",
            "\n",
            "Increase the number of iterations (max_iter) or scale the data as shown in:\n",
            "    https://scikit-learn.org/stable/modules/preprocessing.html\n",
            "Please also refer to the documentation for alternative solver options:\n",
            "    https://scikit-learn.org/stable/modules/linear_model.html#logistic-regression\n",
            "  extra_warning_msg=_LOGISTIC_SOLVER_CONVERGENCE_MSG,\n",
            "/usr/local/lib/python3.7/dist-packages/sklearn/linear_model/_logistic.py:818: ConvergenceWarning: lbfgs failed to converge (status=1):\n",
            "STOP: TOTAL NO. of ITERATIONS REACHED LIMIT.\n",
            "\n",
            "Increase the number of iterations (max_iter) or scale the data as shown in:\n",
            "    https://scikit-learn.org/stable/modules/preprocessing.html\n",
            "Please also refer to the documentation for alternative solver options:\n",
            "    https://scikit-learn.org/stable/modules/linear_model.html#logistic-regression\n",
            "  extra_warning_msg=_LOGISTIC_SOLVER_CONVERGENCE_MSG,\n",
            "/usr/local/lib/python3.7/dist-packages/sklearn/linear_model/_logistic.py:818: ConvergenceWarning: lbfgs failed to converge (status=1):\n",
            "STOP: TOTAL NO. of ITERATIONS REACHED LIMIT.\n",
            "\n",
            "Increase the number of iterations (max_iter) or scale the data as shown in:\n",
            "    https://scikit-learn.org/stable/modules/preprocessing.html\n",
            "Please also refer to the documentation for alternative solver options:\n",
            "    https://scikit-learn.org/stable/modules/linear_model.html#logistic-regression\n",
            "  extra_warning_msg=_LOGISTIC_SOLVER_CONVERGENCE_MSG,\n",
            "/usr/local/lib/python3.7/dist-packages/sklearn/linear_model/_logistic.py:818: ConvergenceWarning: lbfgs failed to converge (status=1):\n",
            "STOP: TOTAL NO. of ITERATIONS REACHED LIMIT.\n",
            "\n",
            "Increase the number of iterations (max_iter) or scale the data as shown in:\n",
            "    https://scikit-learn.org/stable/modules/preprocessing.html\n",
            "Please also refer to the documentation for alternative solver options:\n",
            "    https://scikit-learn.org/stable/modules/linear_model.html#logistic-regression\n",
            "  extra_warning_msg=_LOGISTIC_SOLVER_CONVERGENCE_MSG,\n",
            "/usr/local/lib/python3.7/dist-packages/sklearn/linear_model/_logistic.py:818: ConvergenceWarning: lbfgs failed to converge (status=1):\n",
            "STOP: TOTAL NO. of ITERATIONS REACHED LIMIT.\n",
            "\n",
            "Increase the number of iterations (max_iter) or scale the data as shown in:\n",
            "    https://scikit-learn.org/stable/modules/preprocessing.html\n",
            "Please also refer to the documentation for alternative solver options:\n",
            "    https://scikit-learn.org/stable/modules/linear_model.html#logistic-regression\n",
            "  extra_warning_msg=_LOGISTIC_SOLVER_CONVERGENCE_MSG,\n",
            "/usr/local/lib/python3.7/dist-packages/sklearn/linear_model/_logistic.py:818: ConvergenceWarning: lbfgs failed to converge (status=1):\n",
            "STOP: TOTAL NO. of ITERATIONS REACHED LIMIT.\n",
            "\n",
            "Increase the number of iterations (max_iter) or scale the data as shown in:\n",
            "    https://scikit-learn.org/stable/modules/preprocessing.html\n",
            "Please also refer to the documentation for alternative solver options:\n",
            "    https://scikit-learn.org/stable/modules/linear_model.html#logistic-regression\n",
            "  extra_warning_msg=_LOGISTIC_SOLVER_CONVERGENCE_MSG,\n",
            "/usr/local/lib/python3.7/dist-packages/sklearn/linear_model/_logistic.py:818: ConvergenceWarning: lbfgs failed to converge (status=1):\n",
            "STOP: TOTAL NO. of ITERATIONS REACHED LIMIT.\n",
            "\n",
            "Increase the number of iterations (max_iter) or scale the data as shown in:\n",
            "    https://scikit-learn.org/stable/modules/preprocessing.html\n",
            "Please also refer to the documentation for alternative solver options:\n",
            "    https://scikit-learn.org/stable/modules/linear_model.html#logistic-regression\n",
            "  extra_warning_msg=_LOGISTIC_SOLVER_CONVERGENCE_MSG,\n",
            "/usr/local/lib/python3.7/dist-packages/sklearn/linear_model/_logistic.py:818: ConvergenceWarning: lbfgs failed to converge (status=1):\n",
            "STOP: TOTAL NO. of ITERATIONS REACHED LIMIT.\n",
            "\n",
            "Increase the number of iterations (max_iter) or scale the data as shown in:\n",
            "    https://scikit-learn.org/stable/modules/preprocessing.html\n",
            "Please also refer to the documentation for alternative solver options:\n",
            "    https://scikit-learn.org/stable/modules/linear_model.html#logistic-regression\n",
            "  extra_warning_msg=_LOGISTIC_SOLVER_CONVERGENCE_MSG,\n",
            "/usr/local/lib/python3.7/dist-packages/sklearn/linear_model/_logistic.py:818: ConvergenceWarning: lbfgs failed to converge (status=1):\n",
            "STOP: TOTAL NO. of ITERATIONS REACHED LIMIT.\n",
            "\n",
            "Increase the number of iterations (max_iter) or scale the data as shown in:\n",
            "    https://scikit-learn.org/stable/modules/preprocessing.html\n",
            "Please also refer to the documentation for alternative solver options:\n",
            "    https://scikit-learn.org/stable/modules/linear_model.html#logistic-regression\n",
            "  extra_warning_msg=_LOGISTIC_SOLVER_CONVERGENCE_MSG,\n",
            "/usr/local/lib/python3.7/dist-packages/sklearn/linear_model/_logistic.py:818: ConvergenceWarning: lbfgs failed to converge (status=1):\n",
            "STOP: TOTAL NO. of ITERATIONS REACHED LIMIT.\n",
            "\n",
            "Increase the number of iterations (max_iter) or scale the data as shown in:\n",
            "    https://scikit-learn.org/stable/modules/preprocessing.html\n",
            "Please also refer to the documentation for alternative solver options:\n",
            "    https://scikit-learn.org/stable/modules/linear_model.html#logistic-regression\n",
            "  extra_warning_msg=_LOGISTIC_SOLVER_CONVERGENCE_MSG,\n"
          ]
        },
        {
          "output_type": "stream",
          "name": "stdout",
          "text": [
            "LR: 0.882764 (0.059865)\n",
            "KNN: 0.838377 (0.052544)\n"
          ]
        },
        {
          "output_type": "display_data",
          "data": {
            "text/plain": [
              "<Figure size 792x432 with 1 Axes>"
            ],
            "image/png": "[encoded data removed]"
          },
          "metadata": {
            "needs_background": "light"
          }
        }
      ]
    },
    {
      "cell_type": "code",
      "source": [
        "X_train.shape"
      ],
      "metadata": {
        "colab": {
          "base_uri": "https://localhost:8080/"
        },
        "id": "VLN-X6IifZBf",
        "outputId": "b0118a85-05ff-4c2d-c521-bb4614cdf5e7"
      },
      "execution_count": 20,
      "outputs": [
        {
          "output_type": "execute_result",
          "data": {
            "text/plain": [
              "(750, 19)"
            ]
          },
          "metadata": {},
          "execution_count": 20
        }
      ]
    },
    {
      "cell_type": "code",
      "source": [
        "thresh = 0.3"
      ],
      "metadata": {
        "id": "TZWCQ8eoilpe"
      },
      "execution_count": 39,
      "outputs": []
    },
    {
      "cell_type": "code",
      "source": [
        "from sklearn.metrics import roc_curve, roc_auc_score\n",
        "\n",
        "name, model = models[0]\n",
        "model.fit(X_train, y_train)\n",
        "y_pred_prob = (model.predict_proba(np.delete(X_test, [-2, -1], 1))[:,1] >= thresh).astype(bool) #\n",
        "# y_pred_prob = model.predict_proba(np.delete(X_test, [-2, -1], 1))[:,1]\n",
        "\n",
        "# Generate ROC curve values: fpr, tpr, thresholds\n",
        "fpr, tpr, thresholds = roc_curve(y_test, y_pred_prob)\n",
        "\n",
        "# Plot ROC curve\n",
        "plt.plot([0, 1], [0, 1], 'k--')\n",
        "plt.plot(fpr, tpr)\n",
        "plt.xlabel('False Positive Rate')\n",
        "plt.ylabel('True Positive Rate')\n",
        "plt.title('ROC Curve for {}'.format(name))\n",
        "plt.show()\n",
        "roc_auc_score(y_test, y_pred_prob)"
      ],
      "metadata": {
        "colab": {
          "base_uri": "https://localhost:8080/",
          "height": 451
        },
        "id": "ltAeURbrfdgS",
        "outputId": "2dfdcc8f-80ec-486c-b0a4-22adb9679660"
      },
      "execution_count": 40,
      "outputs": [
        {
          "output_type": "stream",
          "name": "stderr",
          "text": [
            "/usr/local/lib/python3.7/dist-packages/sklearn/linear_model/_logistic.py:818: ConvergenceWarning: lbfgs failed to converge (status=1):\n",
            "STOP: TOTAL NO. of ITERATIONS REACHED LIMIT.\n",
            "\n",
            "Increase the number of iterations (max_iter) or scale the data as shown in:\n",
            "    https://scikit-learn.org/stable/modules/preprocessing.html\n",
            "Please also refer to the documentation for alternative solver options:\n",
            "    https://scikit-learn.org/stable/modules/linear_model.html#logistic-regression\n",
            "  extra_warning_msg=_LOGISTIC_SOLVER_CONVERGENCE_MSG,\n"
          ]
        },
        {
          "output_type": "display_data",
          "data": {
            "text/plain": [
              "<Figure size 432x288 with 1 Axes>"
            ],
            "image/png": "[encoded data removed]"
          },
          "metadata": {
            "needs_background": "light"
          }
        },
        {
          "output_type": "execute_result",
          "data": {
            "text/plain": [
              "0.5499375780274657"
            ]
          },
          "metadata": {},
          "execution_count": 40
        }
      ]
    },
    {
      "cell_type": "code",
      "source": [
        "#anti_classification\n",
        "import copy\n",
        "y_pred_prob = (model.predict_proba(np.delete(X_test, [-2, -1], 1))[:,1] >= thresh).astype(bool) #\n",
        "anti_class_X_test = copy.copy(X_test)\n",
        "\n",
        "\n",
        "#Age\n",
        "where_0 = np.where(anti_class_X_test[:,-1] == 0)\n",
        "where_1 = np.where(anti_class_X_test[:,-1] == 1)\n",
        "\n",
        "anti_class_X_test[where_0, -1] = 1\n",
        "anti_class_X_test[where_1, -1] = 0\n",
        "\n",
        "y_anti_class_prob = model.predict(np.delete(anti_class_X_test, [-2, -1], 1))\n",
        "print('anti-class inconsistency for age: ',np.count_nonzero(np.abs(y_pred_prob - y_anti_class_prob) == 1))\n",
        "\n",
        "#Gender\n",
        "anti_class_X_test = copy.copy(X_test)\n",
        "where_0 = np.where(anti_class_X_test[:,-2] == 0)\n",
        "where_1 = np.where(anti_class_X_test[:,-2] == 1)\n",
        "\n",
        "\n",
        "# print(where_0)\n",
        "anti_class_X_test[where_0, -2] = 1\n",
        "anti_class_X_test[where_1, -2] = 0\n",
        "\n",
        "y_anti_class_prob = model.predict(np.delete(anti_class_X_test, [-2, -1], 1))\n",
        "print('anti-class inconsistency for gender: ', np.count_nonzero(np.abs(y_pred_prob - y_anti_class_prob) == 1))"
      ],
      "metadata": {
        "colab": {
          "base_uri": "https://localhost:8080/"
        },
        "id": "J9_1-MX9gK6_",
        "outputId": "3002f4a7-9f2e-486a-d7ba-7543afb9749b"
      },
      "execution_count": 37,
      "outputs": [
        {
          "output_type": "stream",
          "name": "stdout",
          "text": [
            "anti-class inconsistency for age:  0\n",
            "anti-class inconsistency for gender:  0\n"
          ]
        }
      ]
    },
    {
      "cell_type": "code",
      "source": [
        "# Group Fairness\n",
        "y_pred_prob = (model.predict_proba(np.delete(X_test, [-2, -1], 1))[:,1] >= thresh).astype(bool) #\n",
        "Total_entries = X_test.shape[0]\n",
        "\n",
        "#Age group\n",
        "where_0 = np.where(anti_class_X_test[:,-1] == 0)\n",
        "where_1 = np.where(anti_class_X_test[:,-1] == 1)\n",
        "\n",
        "adult_count = len(where_0[0])\n",
        "young_count = Total_entries - adult_count\n",
        "\n",
        "adult_pred_positive = np.sum(y_pred_prob[where_0])\n",
        "young_pred_positive = np.sum(y_pred_prob[where_1])\n",
        "\n",
        "print('Group Fairness: Prob_adult = {} , Prob_young = {}'.format(adult_pred_positive/adult_count, young_pred_positive/young_count))\n",
        "\n",
        "\n",
        "#Gender\n",
        "where_0 = np.where(anti_class_X_test[:,-2] == 0)\n",
        "where_1 = np.where(anti_class_X_test[:,-2] == 1)\n",
        "\n",
        "male_count = len(where_0[0])\n",
        "female_count = Total_entries - male_count \n",
        "\n",
        "male_pred_positive = np.sum(y_pred_prob[where_0])\n",
        "female_pred_positive = np.sum(y_pred_prob[where_1])\n",
        "\n",
        "print('Group Fairness: Prob_male = {} , Prob_female = {}'.format(male_pred_positive/male_count, female_pred_positive/female_count))"
      ],
      "metadata": {
        "colab": {
          "base_uri": "https://localhost:8080/"
        },
        "id": "FLaXR2byhWEl",
        "outputId": "66b9b396-7f4d-470b-e7c3-2270f7ea19f8"
      },
      "execution_count": 38,
      "outputs": [
        {
          "output_type": "stream",
          "name": "stdout",
          "text": [
            "Group Fairness: Prob_adult = 0.6666666666666666 , Prob_young = 0.7939698492462312\n",
            "Group Fairness: Prob_male = 0.7627118644067796 , Prob_female = 0.7808219178082192\n"
          ]
        }
      ]
    },
    {
      "cell_type": "code",
      "source": [
        "#separation\n",
        "from sklearn.metrics import confusion_matrix, ConfusionMatrixDisplay\n",
        "y_pred_prob = (model.predict_proba(np.delete(X_test, [-2, -1], 1))[:,1] >= thresh).astype(bool) #\n",
        "cm = confusion_matrix(y_test, y_pred_prob)\n",
        "disp = ConfusionMatrixDisplay(confusion_matrix=cm)\n",
        "disp.plot()"
      ],
      "metadata": {
        "colab": {
          "base_uri": "https://localhost:8080/",
          "height": 296
        },
        "id": "G0_QS85uhXva",
        "outputId": "fc7068de-5873-4907-92aa-e3124fa35aba"
      },
      "execution_count": 25,
      "outputs": [
        {
          "output_type": "execute_result",
          "data": {
            "text/plain": [
              "<sklearn.metrics._plot.confusion_matrix.ConfusionMatrixDisplay at 0x7f286970e050>"
            ]
          },
          "metadata": {},
          "execution_count": 25
        },
        {
          "output_type": "display_data",
          "data": {
            "text/plain": [
              "<Figure size 432x288 with 2 Axes>"
            ],
            "image/png": "[encoded data removed]"
          },
          "metadata": {
            "needs_background": "light"
          }
        }
      ]
    },
    {
      "cell_type": "code",
      "source": [
        "#Gender\n",
        "where_0 = np.where(anti_class_X_test[:,-2] == 0)\n",
        "where_1 = np.where(anti_class_X_test[:,-2] == 1)\n",
        "\n",
        "male_pred = y_pred_prob[where_0]\n",
        "male_label = y_test[where_0]\n",
        "cm_male = confusion_matrix(male_label, male_pred)\n",
        "\n",
        "female_pred = y_pred_prob[where_1]\n",
        "female_label = y_test[where_1]\n",
        "cm_female = confusion_matrix(female_label, female_pred)\n",
        "\n",
        "print('Separation for FPR: male-> {}, female-> {}'.format( cm_male[0][1]/(cm_male[0][0] + cm_male[0][1]),  cm_female[0][1]/(cm_female[0][0] + cm_female[0][1]) ))\n",
        "print('Separation for FNR: male-> {}, female-> {}'.format( cm_male[1][0]/(cm_male[1][0] + cm_male[1][1]),  cm_female[1][0]/(cm_female[1][0] + cm_female[1][1]) ))"
      ],
      "metadata": {
        "colab": {
          "base_uri": "https://localhost:8080/"
        },
        "id": "bym-OwH1iJ77",
        "outputId": "556d540a-042f-4110-c72b-a73cd67dfae3"
      },
      "execution_count": 26,
      "outputs": [
        {
          "output_type": "stream",
          "name": "stdout",
          "text": [
            "Separation for FPR: male-> 0.88, female-> 0.9090909090909091\n",
            "Separation for FNR: male-> 0.015748031496062992, female-> 0.0\n"
          ]
        }
      ]
    },
    {
      "cell_type": "code",
      "source": [
        "#Age\n",
        "where_0 = np.where(anti_class_X_test[:,-1] == 1)\n",
        "where_1 = np.where(anti_class_X_test[:,-1] == 0)\n",
        "\n",
        "adult_pred = y_pred_prob[where_0]\n",
        "adult_label = y_test[where_0]\n",
        "cm_adult = confusion_matrix(adult_label, adult_pred)\n",
        "\n",
        "young_pred = y_pred_prob[where_1]\n",
        "young_label = y_test[where_1]\n",
        "cm_young = confusion_matrix(young_label, young_pred)\n",
        "\n",
        "print('Separation for FPR: adult-> {}, young-> {}'.format( cm_adult[0][1]/(cm_adult[0][0] + cm_adult[0][1]),  cm_young[0][1]/(cm_young[0][0] + cm_young[0][1]) ))\n",
        "print('Separation for FNR: adult-> {}, young-> {}'.format( cm_adult[1][0]/(cm_adult[1][0] + cm_adult[1][1]),  cm_young[1][0]/(cm_young[1][0] + cm_young[1][1]) ))"
      ],
      "metadata": {
        "colab": {
          "base_uri": "https://localhost:8080/"
        },
        "id": "iFZyPL99iOSq",
        "outputId": "9f7a8764-71ab-452f-b859-9148d0603db3"
      },
      "execution_count": 27,
      "outputs": [
        {
          "output_type": "stream",
          "name": "stdout",
          "text": [
            "Separation for FPR: adult-> 0.8909090909090909, young-> 0.8823529411764706\n",
            "Separation for FNR: adult-> 0.013888888888888888, young-> 0.0\n"
          ]
        }
      ]
    },
    {
      "cell_type": "code",
      "source": [
        "from warnings import filterwarnings\n",
        "filterwarnings('ignore')\n",
        "\n",
        "thresh_list = [0.1, 0.2, 0.3, 0.4, 0.5, 0.6, 0.7, 0.8, 0.9, 1.0]\n",
        "print(\"Running a series of experiments for different threshold values \\n\")\n",
        "for thresh in thresh_list:\n",
        "  print(\"Threshold : {} \\n\".format(thresh))\n",
        "  name, model = models[0]\n",
        "  model.fit(X_train, y_train)\n",
        "  y_pred_prob = (model.predict_proba(np.delete(X_test, [-2, -1], 1))[:,1] >= thresh).astype(bool) #\n",
        "  fpr, tpr, thresholds = roc_curve(y_test, y_pred_prob)\n",
        "\n",
        "  plt.plot([0, 1], [0, 1], 'k--')\n",
        "  plt.plot(fpr, tpr)\n",
        "  plt.xlabel('False Positive Rate')\n",
        "  plt.ylabel('True Positive Rate')\n",
        "  plt.title('ROC Curve for {}'.format(name))\n",
        "  plt.show()\n",
        "  roc_auc_score(y_test, y_pred_prob)\n",
        "\n",
        "  #anti_classification\n",
        "  import copy\n",
        "  y_pred_prob = (model.predict_proba(np.delete(X_test, [-2, -1], 1))[:,1] >= thresh).astype(bool) #\n",
        "  anti_class_X_test = copy.copy(X_test)\n",
        "\n",
        "  print(\"Evaluating Anti-classification for Age and Gender \\n\")\n",
        "\n",
        "  #Age\n",
        "  where_0 = np.where(anti_class_X_test[:,-1] == 0)\n",
        "  where_1 = np.where(anti_class_X_test[:,-1] == 1)\n",
        "\n",
        "  anti_class_X_test[where_0, -1] = 1\n",
        "  anti_class_X_test[where_1, -1] = 0\n",
        "\n",
        "  y_anti_class_prob = model.predict(np.delete(anti_class_X_test, [-2, -1], 1))\n",
        "  print('anti-class inconsistency for age: ',np.count_nonzero(np.abs(y_pred_prob - y_anti_class_prob) == 1))\n",
        "\n",
        "  #Gender\n",
        "  anti_class_X_test = copy.copy(X_test)\n",
        "  where_0 = np.where(anti_class_X_test[:,-2] == 0)\n",
        "  where_1 = np.where(anti_class_X_test[:,-2] == 1)\n",
        "\n",
        "\n",
        "  anti_class_X_test[where_0, -2] = 1\n",
        "  anti_class_X_test[where_1, -2] = 0\n",
        "\n",
        "  y_anti_class_prob = model.predict(np.delete(anti_class_X_test, [-2, -1], 1))\n",
        "  print('anti-class inconsistency for gender: ', np.count_nonzero(np.abs(y_pred_prob - y_anti_class_prob) == 1))\n",
        "\n",
        "  print(\"Evaluating Group Fairness for Age and Gender \\n\")\n",
        "# Group Fairness\n",
        "  y_pred_prob = (model.predict_proba(np.delete(X_test, [-2, -1], 1))[:,1] >= thresh).astype(bool) #\n",
        "  Total_entries = X_test.shape[0]\n",
        "\n",
        "  #Age group\n",
        "  where_0 = np.where(anti_class_X_test[:,-1] == 0)\n",
        "  where_1 = np.where(anti_class_X_test[:,-1] == 1)\n",
        "\n",
        "  adult_count = len(where_0[0])\n",
        "  young_count = Total_entries - adult_count\n",
        "\n",
        "  adult_pred_positive = np.sum(y_pred_prob[where_0])\n",
        "  young_pred_positive = np.sum(y_pred_prob[where_1])\n",
        "\n",
        "  print('Group Fairness: Prob_adult = {} , Prob_young = {}'.format(adult_pred_positive/adult_count, young_pred_positive/young_count))\n",
        "\n",
        "\n",
        "  #Gender\n",
        "  where_0 = np.where(anti_class_X_test[:,-2] == 0)\n",
        "  where_1 = np.where(anti_class_X_test[:,-2] == 1)\n",
        "\n",
        "  male_count = len(where_0[0])\n",
        "  female_count = Total_entries - male_count \n",
        "\n",
        "  male_pred_positive = np.sum(y_pred_prob[where_0])\n",
        "  female_pred_positive = np.sum(y_pred_prob[where_1])\n",
        "\n",
        "  print('Group Fairness: Prob_male = {} , Prob_female = {}'.format(male_pred_positive/male_count, female_pred_positive/female_count))\n",
        "\n",
        "  print(\"\\nEvaluating Separation for Age and Gender \\n\")\n",
        "    #Gender\n",
        "  where_0 = np.where(anti_class_X_test[:,-2] == 0)\n",
        "  where_1 = np.where(anti_class_X_test[:,-2] == 1)\n",
        "\n",
        "  male_pred = y_pred_prob[where_0]\n",
        "  male_label = y_test[where_0]\n",
        "  cm_male = confusion_matrix(male_label, male_pred)\n",
        "\n",
        "  female_pred = y_pred_prob[where_1]\n",
        "  female_label = y_test[where_1]\n",
        "  cm_female = confusion_matrix(female_label, female_pred)\n",
        "\n",
        "  print('Separation for FPR: male-> {}, female-> {}'.format( cm_male[0][1]/(cm_male[0][0] + cm_male[0][1]),  cm_female[0][1]/(cm_female[0][0] + cm_female[0][1]) ))\n",
        "  print('Separation for FNR: male-> {}, female-> {}'.format( cm_male[1][0]/(cm_male[1][0] + cm_male[1][1]),  cm_female[1][0]/(cm_female[1][0] + cm_female[1][1]) ))\n",
        "\n",
        "\n",
        "  #Age\n",
        "  where_0 = np.where(anti_class_X_test[:,-1] == 1)\n",
        "  where_1 = np.where(anti_class_X_test[:,-1] == 0)\n",
        "\n",
        "  adult_pred = y_pred_prob[where_0]\n",
        "  adult_label = y_test[where_0]\n",
        "  cm_adult = confusion_matrix(adult_label, adult_pred)\n",
        "\n",
        "  young_pred = y_pred_prob[where_1]\n",
        "  young_label = y_test[where_1]\n",
        "  cm_young = confusion_matrix(young_label, young_pred)\n",
        "\n",
        "  print('Separation for FPR: adult-> {}, young-> {}'.format( cm_adult[0][1]/(cm_adult[0][0] + cm_adult[0][1]),  cm_young[0][1]/(cm_young[0][0] + cm_young[0][1]) ))\n",
        "  print('Separation for FNR: adult-> {}, young-> {}'.format( cm_adult[1][0]/(cm_adult[1][0] + cm_adult[1][1]),  cm_young[1][0]/(cm_young[1][0] + cm_young[1][1]) ))\n",
        "\n",
        "  print(\"End of experiment for threshold = {} \\n\\n\".format(thresh))\n"
      ],
      "metadata": {
        "id": "ePxpL10hiQcM",
        "colab": {
          "base_uri": "https://localhost:8080/",
          "height": 1000
        },
        "outputId": "6c380d5b-f326-4db1-d7c3-0a1ed3962ee2"
      },
      "execution_count": 51,
      "outputs": [
        {
          "output_type": "stream",
          "name": "stdout",
          "text": [
            "Running a series of experiments for different threshold values \n",
            "\n",
            "Threshold : 0.1 \n",
            "\n"
          ]
        },
        {
          "output_type": "display_data",
          "data": {
            "text/plain": [
              "<Figure size 432x288 with 1 Axes>"
            ],
            "image/png": "[encoded data removed]"
          },
          "metadata": {
            "needs_background": "light"
          }
        },
        {
          "output_type": "stream",
          "name": "stdout",
          "text": [
            "Evaluating Anti-classification for Age and Gender \n",
            "\n",
            "anti-class inconsistency for age:  47\n",
            "anti-class inconsistency for gender:  47\n",
            "Evaluating Group Fairness for Age and Gender \n",
            "\n",
            "Group Fairness: Prob_adult = 1.0 , Prob_young = 1.0\n",
            "Group Fairness: Prob_male = 1.0 , Prob_female = 1.0\n",
            "\n",
            "Evaluating Separation for Age and Gender \n",
            "\n",
            "Separation for FPR: male-> 1.0, female-> 1.0\n",
            "Separation for FNR: male-> 0.0, female-> 0.0\n",
            "Separation for FPR: adult-> 1.0, young-> 1.0\n",
            "Separation for FNR: adult-> 0.0, young-> 0.0\n",
            "End of experiment for threshold = 0.1 \n",
            "\n",
            "\n",
            "Threshold : 0.2 \n",
            "\n"
          ]
        },
        {
          "output_type": "display_data",
          "data": {
            "text/plain": [
              "<Figure size 432x288 with 1 Axes>"
            ],
            "image/png": "[encoded data removed]"
          },
          "metadata": {
            "needs_background": "light"
          }
        },
        {
          "output_type": "stream",
          "name": "stdout",
          "text": [
            "Evaluating Anti-classification for Age and Gender \n",
            "\n",
            "anti-class inconsistency for age:  44\n",
            "anti-class inconsistency for gender:  44\n",
            "Evaluating Group Fairness for Age and Gender \n",
            "\n",
            "Group Fairness: Prob_adult = 1.0 , Prob_young = 0.9849246231155779\n",
            "Group Fairness: Prob_male = 0.9830508474576272 , Prob_female = 1.0\n",
            "\n",
            "Evaluating Separation for Age and Gender \n",
            "\n",
            "Separation for FPR: male-> 0.96, female-> 1.0\n",
            "Separation for FNR: male-> 0.007874015748031496, female-> 0.0\n",
            "Separation for FPR: adult-> 0.9636363636363636, young-> 1.0\n",
            "Separation for FNR: adult-> 0.006944444444444444, young-> 0.0\n",
            "End of experiment for threshold = 0.2 \n",
            "\n",
            "\n",
            "Threshold : 0.3 \n",
            "\n"
          ]
        },
        {
          "output_type": "display_data",
          "data": {
            "text/plain": [
              "<Figure size 432x288 with 1 Axes>"
            ],
            "image/png": "[encoded data removed]"
          },
          "metadata": {
            "needs_background": "light"
          }
        },
        {
          "output_type": "stream",
          "name": "stdout",
          "text": [
            "Evaluating Anti-classification for Age and Gender \n",
            "\n",
            "anti-class inconsistency for age:  37\n",
            "anti-class inconsistency for gender:  37\n",
            "Evaluating Group Fairness for Age and Gender \n",
            "\n",
            "Group Fairness: Prob_adult = 0.9607843137254902 , Prob_young = 0.9597989949748744\n",
            "Group Fairness: Prob_male = 0.9548022598870056 , Prob_female = 0.9726027397260274\n",
            "\n",
            "Evaluating Separation for Age and Gender \n",
            "\n",
            "Separation for FPR: male-> 0.88, female-> 0.9090909090909091\n",
            "Separation for FNR: male-> 0.015748031496062992, female-> 0.0\n",
            "Separation for FPR: adult-> 0.8909090909090909, young-> 0.8823529411764706\n",
            "Separation for FNR: adult-> 0.013888888888888888, young-> 0.0\n",
            "End of experiment for threshold = 0.3 \n",
            "\n",
            "\n",
            "Threshold : 0.4 \n",
            "\n"
          ]
        },
        {
          "output_type": "display_data",
          "data": {
            "text/plain": [
              "<Figure size 432x288 with 1 Axes>"
            ],
            "image/png": "[encoded data removed]"
          },
          "metadata": {
            "needs_background": "light"
          }
        },
        {
          "output_type": "stream",
          "name": "stdout",
          "text": [
            "Evaluating Anti-classification for Age and Gender \n",
            "\n",
            "anti-class inconsistency for age:  24\n",
            "anti-class inconsistency for gender:  24\n",
            "Evaluating Group Fairness for Age and Gender \n",
            "\n",
            "Group Fairness: Prob_adult = 0.8627450980392157 , Prob_young = 0.9195979899497487\n",
            "Group Fairness: Prob_male = 0.903954802259887 , Prob_female = 0.9178082191780822\n",
            "\n",
            "Evaluating Separation for Age and Gender \n",
            "\n",
            "Separation for FPR: male-> 0.74, female-> 0.8181818181818182\n",
            "Separation for FNR: male-> 0.031496062992125984, female-> 0.0392156862745098\n",
            "Separation for FPR: adult-> 0.8, young-> 0.6470588235294118\n",
            "Separation for FNR: adult-> 0.034722222222222224, young-> 0.029411764705882353\n",
            "End of experiment for threshold = 0.4 \n",
            "\n",
            "\n",
            "Threshold : 0.5 \n",
            "\n"
          ]
        },
        {
          "output_type": "display_data",
          "data": {
            "text/plain": [
              "<Figure size 432x288 with 1 Axes>"
            ],
            "image/png": "[encoded data removed]"
          },
          "metadata": {
            "needs_background": "light"
          }
        },
        {
          "output_type": "stream",
          "name": "stdout",
          "text": [
            "Evaluating Anti-classification for Age and Gender \n",
            "\n",
            "anti-class inconsistency for age:  0\n",
            "anti-class inconsistency for gender:  0\n",
            "Evaluating Group Fairness for Age and Gender \n",
            "\n",
            "Group Fairness: Prob_adult = 0.7058823529411765 , Prob_young = 0.8391959798994975\n",
            "Group Fairness: Prob_male = 0.807909604519774 , Prob_female = 0.821917808219178\n",
            "\n",
            "Evaluating Separation for Age and Gender \n",
            "\n",
            "Separation for FPR: male-> 0.62, female-> 0.6363636363636364\n",
            "Separation for FNR: male-> 0.11811023622047244, female-> 0.09803921568627451\n",
            "Separation for FPR: adult-> 0.6545454545454545, young-> 0.5294117647058824\n",
            "Separation for FNR: adult-> 0.09027777777777778, young-> 0.20588235294117646\n",
            "End of experiment for threshold = 0.5 \n",
            "\n",
            "\n",
            "Threshold : 0.6 \n",
            "\n"
          ]
        },
        {
          "output_type": "display_data",
          "data": {
            "text/plain": [
              "<Figure size 432x288 with 1 Axes>"
            ],
            "image/png": "[encoded data removed]"
          },
          "metadata": {
            "needs_background": "light"
          }
        },
        {
          "output_type": "stream",
          "name": "stdout",
          "text": [
            "Evaluating Anti-classification for Age and Gender \n",
            "\n",
            "anti-class inconsistency for age:  0\n",
            "anti-class inconsistency for gender:  0\n",
            "Evaluating Group Fairness for Age and Gender \n",
            "\n",
            "Group Fairness: Prob_adult = 0.5882352941176471 , Prob_young = 0.7185929648241206\n",
            "Group Fairness: Prob_male = 0.672316384180791 , Prob_female = 0.7397260273972602\n",
            "\n",
            "Evaluating Separation for Age and Gender \n",
            "\n",
            "Separation for FPR: male-> 0.4, female-> 0.5909090909090909\n",
            "Separation for FNR: male-> 0.2204724409448819, female-> 0.19607843137254902\n",
            "Separation for FPR: adult-> 0.4727272727272727, young-> 0.4117647058823529\n",
            "Separation for FNR: adult-> 0.1875, young-> 0.3235294117647059\n",
            "End of experiment for threshold = 0.6 \n",
            "\n",
            "\n",
            "Threshold : 0.7 \n",
            "\n"
          ]
        },
        {
          "output_type": "display_data",
          "data": {
            "text/plain": [
              "<Figure size 432x288 with 1 Axes>"
            ],
            "image/png": "[encoded data removed]"
          },
          "metadata": {
            "needs_background": "light"
          }
        },
        {
          "output_type": "stream",
          "name": "stdout",
          "text": [
            "Evaluating Anti-classification for Age and Gender \n",
            "\n",
            "anti-class inconsistency for age:  0\n",
            "anti-class inconsistency for gender:  0\n",
            "Evaluating Group Fairness for Age and Gender \n",
            "\n",
            "Group Fairness: Prob_adult = 0.47058823529411764 , Prob_young = 0.5829145728643216\n",
            "Group Fairness: Prob_male = 0.536723163841808 , Prob_female = 0.6164383561643836\n",
            "\n",
            "Evaluating Separation for Age and Gender \n",
            "\n",
            "Separation for FPR: male-> 0.2, female-> 0.36363636363636365\n",
            "Separation for FNR: male-> 0.33070866141732286, female-> 0.27450980392156865\n",
            "Separation for FPR: adult-> 0.3090909090909091, young-> 0.058823529411764705\n",
            "Separation for FNR: adult-> 0.3125, young-> 0.3235294117647059\n",
            "End of experiment for threshold = 0.7 \n",
            "\n",
            "\n",
            "Threshold : 0.8 \n",
            "\n"
          ]
        },
        {
          "output_type": "display_data",
          "data": {
            "text/plain": [
              "<Figure size 432x288 with 1 Axes>"
            ],
            "image/png": "[encoded data removed]"
          },
          "metadata": {
            "needs_background": "light"
          }
        },
        {
          "output_type": "stream",
          "name": "stdout",
          "text": [
            "Evaluating Anti-classification for Age and Gender \n",
            "\n",
            "anti-class inconsistency for age:  0\n",
            "anti-class inconsistency for gender:  0\n",
            "Evaluating Group Fairness for Age and Gender \n",
            "\n",
            "Group Fairness: Prob_adult = 0.3137254901960784 , Prob_young = 0.4271356783919598\n",
            "Group Fairness: Prob_male = 0.384180790960452 , Prob_female = 0.4520547945205479\n",
            "\n",
            "Evaluating Separation for Age and Gender \n",
            "\n",
            "Separation for FPR: male-> 0.14, female-> 0.22727272727272727\n",
            "Separation for FNR: male-> 0.5196850393700787, female-> 0.45098039215686275\n",
            "Separation for FPR: adult-> 0.2, young-> 0.058823529411764705\n",
            "Separation for FNR: adult-> 0.4861111111111111, young-> 0.5588235294117647\n",
            "End of experiment for threshold = 0.8 \n",
            "\n",
            "\n",
            "Threshold : 0.9 \n",
            "\n"
          ]
        },
        {
          "output_type": "display_data",
          "data": {
            "text/plain": [
              "<Figure size 432x288 with 1 Axes>"
            ],
            "image/png": "[encoded data removed]"
          },
          "metadata": {
            "needs_background": "light"
          }
        },
        {
          "output_type": "stream",
          "name": "stdout",
          "text": [
            "Evaluating Anti-classification for Age and Gender \n",
            "\n",
            "anti-class inconsistency for age:  0\n",
            "anti-class inconsistency for gender:  0\n",
            "Evaluating Group Fairness for Age and Gender \n",
            "\n",
            "Group Fairness: Prob_adult = 0.0392156862745098 , Prob_young = 0.19095477386934673\n",
            "Group Fairness: Prob_male = 0.15254237288135594 , Prob_female = 0.1780821917808219\n",
            "\n",
            "Evaluating Separation for Age and Gender \n",
            "\n",
            "Separation for FPR: male-> 0.02, female-> 0.045454545454545456\n",
            "Separation for FNR: male-> 0.7952755905511811, female-> 0.7647058823529411\n",
            "Separation for FPR: adult-> 0.03636363636363636, young-> 0.0\n",
            "Separation for FNR: adult-> 0.75, young-> 0.9411764705882353\n",
            "End of experiment for threshold = 0.9 \n",
            "\n",
            "\n",
            "Threshold : 1.0 \n",
            "\n"
          ]
        },
        {
          "output_type": "display_data",
          "data": {
            "text/plain": [
              "<Figure size 432x288 with 1 Axes>"
            ],
            "image/png": "[encoded data removed]"
          },
          "metadata": {
            "needs_background": "light"
          }
        },
        {
          "output_type": "stream",
          "name": "stdout",
          "text": [
            "Evaluating Anti-classification for Age and Gender \n",
            "\n",
            "anti-class inconsistency for age:  0\n",
            "anti-class inconsistency for gender:  0\n",
            "Evaluating Group Fairness for Age and Gender \n",
            "\n",
            "Group Fairness: Prob_adult = 0.0 , Prob_young = 0.0\n",
            "Group Fairness: Prob_male = 0.0 , Prob_female = 0.0\n",
            "\n",
            "Evaluating Separation for Age and Gender \n",
            "\n",
            "Separation for FPR: male-> 0.0, female-> 0.0\n",
            "Separation for FNR: male-> 1.0, female-> 1.0\n",
            "Separation for FPR: adult-> 0.0, young-> 0.0\n",
            "Separation for FNR: adult-> 1.0, young-> 1.0\n",
            "End of experiment for threshold = 1.0 \n",
            "\n",
            "\n"
          ]
        }
      ]
    },
    {
      "cell_type": "code",
      "source": [
        ""
      ],
      "metadata": {
        "id": "jRo_Ke9Jmfsw"
      },
      "execution_count": null,
      "outputs": []
    }
  ]
}